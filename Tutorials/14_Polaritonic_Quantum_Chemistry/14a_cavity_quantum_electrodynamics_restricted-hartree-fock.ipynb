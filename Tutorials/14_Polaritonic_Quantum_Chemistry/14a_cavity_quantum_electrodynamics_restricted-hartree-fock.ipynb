{
 "cells": [
  {
   "cell_type": "markdown",
   "metadata": {
    "collapsed": true
   },
   "source": [
    "# Cavity Quantum Electrodynamics Hartree-Fock Self-Consistent Field Theory"
   ]
  },
  {
   "cell_type": "markdown",
   "metadata": {},
   "source": [
    "\"\"\"Tutorial implementing a CQED-RHF program\"\"\"\n",
    "\n",
    "__authors__ = \"J. McTague, J. Foley, A. E. DePrince III\"\n",
    "__credits__ = \"J. McTague, J. Foley, A. E. DePrince III\"\n",
    "__email__   = \"foleyj10@wpunj.edu, deprince@fsu.edu\"\n",
    "\n",
    "__copyright__ = \"(c) 2014-2018, The Psi4NumPy Developers\"\n",
    "__license__   = \"BSD-3-Clause\"\n",
    "__date__      = \"11/04/2021\""
   ]
  },
  {
   "cell_type": "markdown",
   "metadata": {},
   "source": [
    "## I. Theoretical Overview\n",
    "\n",
    "- Introduce $\\hat{H}_{PF} = \\hat{H}_e + \\hat{H}_p + \\hat{H}_{ep} + \\hat{H}_{dse}$ and define all terms as in Eq. 2-5 in [[McTague:2021:ChemRxiv](https://chemrxiv.org/engage/chemrxiv/article-details/611fa8d08a6faa13229c8be6)]\n",
    "- Introduce HF Reference $|R\\rangle = |\\Phi_0\\rangle |0\\rangle$ and show that only the \n",
    "  $\\langle R| \\hat{H}_e + \\hat{H}_{dse} | R \\rangle$ terms contribute to the energy expectation value \n",
    "- Expand the $\\hat{H}_{dse}$ to show all terms that contribute as in Eq. 8 in [[McTague:2021:ChemRxiv](https://chemrxiv.org/engage/chemrxiv/article-details/611fa8d08a6faa13229c8be6)], pointing out the 1- and 2-electron dipole and 1-electron quadrupole terms that arise\n",
    "- Show Augmented Fock matrix and CQED-RHF energy expression (Eqs. 10-13 in [[McTague:2021:ChemRxiv](https://chemrxiv.org/engage/chemrxiv/article-details/611fa8d08a6faa13229c8be6)])\n",
    "- Explain how ordinary SCF routine can be used to solve CQED-RHF equations with slight modification that $\\langle \\mu \\rangle$ should be transformed to current CQED-RHF orbital basis at each iteration\n",
    "  "
   ]
  },
  {
   "cell_type": "markdown",
   "metadata": {},
   "source": [
    "## II. Implementation\n",
    "\n",
    "Using the above overview, let's write a RHF program using <span style=\"font-variant: small-caps\"> Psi4 </span> and NumPy.  First, we need to import these Python modules: "
   ]
  },
  {
   "cell_type": "code",
   "execution_count": 2,
   "metadata": {},
   "outputs": [],
   "source": [
    "# ==> Import Psi4 & NumPy <==\n",
    "import psi4\n",
    "import numpy as np"
   ]
  },
  {
   "cell_type": "markdown",
   "metadata": {},
   "source": [
    "*(This block appears in the basic RHF tutorial... do we need it?)*\n",
    "\n",
    "Next, using what you learned in the previous tutorial module, set the following <span style=\"font-variant: small-caps\"> Psi4 </span> and molecule options.\n",
    "\n",
    "Memory & Output specifications:\n",
    "- Give 500 Mb of memory to Psi4\n",
    "- Set Psi4 output file to \"output.dat\"\n",
    "- Set a variable `numpy_memory` to an acceptable amount of available memory for the working computer to use for storing tensors\n",
    "\n",
    "Molecule definition:\n",
    "*(Do we want to do formaldehyde instead?)*\n",
    "\n",
    "- Define the \"physicist's water molecule\" (O-H bond length = 1.1 Angstroms, HOH bond angle = 104 degrees)\n",
    "- Molecular symmetry C1\n",
    "\n",
    "Computation options:\n",
    "- basis set cc-pVDZ\n",
    "- SCF type PK\n",
    "- Energy convergence criterion to 0.00000001\n"
   ]
  },
  {
   "cell_type": "code",
   "execution_count": 3,
   "metadata": {},
   "outputs": [],
   "source": [
    "# ==> Set Basic Psi4 Options <==\n",
    "# Memory specification\n",
    "psi4.set_memory(int(5e8))\n",
    "numpy_memory = 2\n",
    "\n",
    "# Set output file\n",
    "psi4.core.set_output_file('output.dat', False)\n",
    "\n",
    "# Define Physicist's water -- don't forget C1 symmetry!\n",
    "mol = psi4.geometry(\"\"\"\n",
    "O\n",
    "H 1 1.1\n",
    "H 1 1.1 2 104\n",
    "symmetry c1\n",
    "\"\"\")\n",
    "\n",
    "# Set computation options\n",
    "psi4.set_options({'basis': 'cc-pvdz',\n",
    "                  'scf_type': 'pk',\n",
    "                  'e_convergence': 1e-8})"
   ]
  },
  {
   "cell_type": "markdown",
   "metadata": {},
   "source": [
    "Since we will be writing our own, iterative RHF procedure, we will need to define options that we can use to tweak our convergence behavior.  For example, if something goes wrong and our SCF doesn't converge, we don't want to spiral into an infinite loop.  Instead, we can specify the maximum number of iterations allowed, and store this value in a variable called `maxiter`.  Here are some good default options for our program:\n",
    "~~~python\n",
    "MAXITER = 40\n",
    "E_conv = 1.0e-6\n",
    "~~~\n",
    "These are by no means the only possible values for these options, and it's encouraged to try different values and see for yourself how different choices affect the performance of our program.  For now, let's use the above as our default."
   ]
  },
  {
   "cell_type": "code",
   "execution_count": 4,
   "metadata": {},
   "outputs": [],
   "source": [
    "# ==> Set default program options <==\n",
    "# Maximum SCF iterations\n",
    "MAXITER = 40\n",
    "# Energy convergence criterion\n",
    "E_conv = 1.0e-6"
   ]
  },
  {
   "cell_type": "markdown",
   "metadata": {},
   "source": [
    "Before we can build our Fock matrix, we'll need to compute the following static one- and two-electron quantities:\n",
    "\n",
    "- Electron repulsion integrals (ERIs) **I** between our AOs\n",
    "- Overlap matrix **S**\n",
    "- Core Hamiltonian matrix **H**\n",
    "- Dipole integrals **$\\mu$**\n",
    "- Quadrupole integrals **Q**\n"
   ]
  },
  {
   "cell_type": "code",
   "execution_count": 5,
   "metadata": {},
   "outputs": [
    {
     "name": "stdout",
     "output_type": "stream",
     "text": [
      "Number of occupied orbitals:   5\n",
      "Number of basis functions:  24\n",
      "\n",
      "Size of the ERI tensor will be 0.00 GB.\n"
     ]
    }
   ],
   "source": [
    "# ==> Compute static 1e- and 2e- quantities with Psi4 <==\n",
    "# ==> NEED TO ADD CALLS TO GET DIPOLE MATRIX AND QUADRUPOLE MATRIX! <==\n",
    "# Class instantiation\n",
    "\n",
    "wfn = psi4.core.Wavefunction.build(mol, psi4.core.get_global_option('basis'))\n",
    "mints = psi4.core.MintsHelper(wfn.basisset())\n",
    "\n",
    "# Overlap matrix\n",
    "S = np.asarray(mints.ao_overlap())\n",
    "\n",
    "# Number of basis Functions & doubly occupied orbitals\n",
    "nbf = S.shape[0]\n",
    "ndocc = wfn.nalpha()\n",
    "\n",
    "print('Number of occupied orbitals: %3d' % (ndocc))\n",
    "print('Number of basis functions: %3d' % (nbf))\n",
    "\n",
    "# Memory check for ERI tensor\n",
    "I_size = (nbf**4) * 8.e-9\n",
    "print('\\nSize of the ERI tensor will be {:4.2f} GB.'.format(I_size))\n",
    "if I_size > numpy_memory:\n",
    "    psi4.core.clean()\n",
    "    raise Exception(\"Estimated memory utilization (%4.2f GB) exceeds allotted memory \\\n",
    "                     limit of %4.2f GB.\" % (I_size, numpy_memory))\n",
    "\n",
    "# Build ERI Tensor\n",
    "I = np.asarray(mints.ao_eri())\n",
    "\n",
    "# Build core Hamiltonian\n",
    "T = np.asarray(mints.ao_kinetic())\n",
    "V = np.asarray(mints.ao_potential())\n",
    "H = T + V"
   ]
  },
  {
   "cell_type": "code",
   "execution_count": 11,
   "metadata": {},
   "outputs": [
    {
     "name": "stdout",
     "output_type": "stream",
     "text": [
      "\tSCF Energy........................................................PASSED\n"
     ]
    },
    {
     "data": {
      "text/plain": [
       "True"
      ]
     },
     "execution_count": 11,
     "metadata": {},
     "output_type": "execute_result"
    }
   ],
   "source": [
    "# Compare to Psi4 - Need to think about how we will do this comparison!\n",
    "SCF_E_psi = psi4.energy('SCF')\n",
    "psi4.compare_values(SCF_E_psi, SCF_E, 6, 'SCF Energy')"
   ]
  },
  {
   "cell_type": "markdown",
   "metadata": {},
   "source": [
    "### References\n",
    "1. Pauli-Fierz Hamiltonian and CQED-RHF Equations\n",
    "    - [[Haugland:2020:041043](https://journals.aps.org/prx/pdf/10.1103/PhysRevX.10.041043)] T. S. Haughland, E. Ronco, E. F. Kjonstad, A. Rubio, H. Koch, *Phys. Rev. X*, **10**, 041043 (2020)\n",
    "    - [[DePrince:2021:094112]](https://aip.scitation.org/doi/10.1063/5.0038748) A. E. DePrince III, *J. Chem. Phys.* **154**, 094113 (2021).\n",
    "2. Detailed CQED-RHF and CQED-CIS equations and overview of algorithm\n",
    "    - [[McTague:2021:ChemRxiv](https://chemrxiv.org/engage/chemrxiv/article-details/611fa8d08a6faa13229c8be6)] J. McTague, J. J. Foley IV, *ChemRxiv*,\n",
    "doi: 10.33774/chemrxiv-2021-0gpz8 (2021)"
   ]
  },
  {
   "cell_type": "code",
   "execution_count": null,
   "metadata": {},
   "outputs": [],
   "source": []
  }
 ],
 "metadata": {
  "kernelspec": {
   "display_name": "Python 3",
   "language": "python",
   "name": "python3"
  },
  "language_info": {
   "codemirror_mode": {
    "name": "ipython",
    "version": 3
   },
   "file_extension": ".py",
   "mimetype": "text/x-python",
   "name": "python",
   "nbconvert_exporter": "python",
   "pygments_lexer": "ipython3",
   "version": "3.8.5"
  },
  "latex_envs": {
   "LaTeX_envs_menu_present": true,
   "bibliofile": "biblio.bib",
   "cite_by": "apalike",
   "current_citInitial": 1,
   "eqLabelWithNumbers": true,
   "eqNumInitial": 1,
   "labels_anchors": false,
   "latex_user_defs": false,
   "report_style_numbering": false,
   "user_envs_cfg": false
  }
 },
 "nbformat": 4,
 "nbformat_minor": 1
}
