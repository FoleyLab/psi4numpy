{
 "cells": [
  {
   "cell_type": "code",
   "execution_count": null,
   "id": "c395e81e-d3bc-4155-9dcf-4c6f7357406a",
   "metadata": {},
   "outputs": [],
   "source": [
    "from oo_cqed_rhf import CQEDRHFCalculator\n",
    "import numpy as np\n",
    "import psi4"
   ]
  },
  {
   "cell_type": "code",
   "execution_count": null,
   "id": "b7d2f971-cad8-43d9-9da4-36c51ee29ffa",
   "metadata": {},
   "outputs": [],
   "source": [
    "# Expected gradient contributions for Water in a STO-3G basis set with the following geometry:\n",
    "h2o_string = \"\"\"\n",
    "    O      0.000000000000   0.000000000000   0.000000000000\n",
    "    H      0.000000000000   0.757000000000   0.587000000000\n",
    "    H      0.000000000000  -0.757000000000   0.587000000000\n",
    "no_reorient\n",
    "no_com\n",
    "symmetry c1\n",
    "\"\"\"\n",
    "\n",
    "\n",
    "# options for H2O\n",
    "psi4_options = {\n",
    "    \"basis\": \"sto-3g\",\n",
    "    \"save_jk\": True,\n",
    "    \"scf_type\": \"pk\",\n",
    "    \"e_convergence\": 1e-12,\n",
    "    \"d_convergence\": 1e-12,\n",
    "}\n",
    "\n",
    "## From output of this script https://github.com/psi4/psi4/blob/master/samples/psi4numpy/rhf-gradient/input.py\n",
    "## when the current H2O geometry is used\n",
    "_expected_nuclear_gradient = np.array([\n",
    "    [0.00000000000000,  0.00000000000000,  2.99204046891092],\n",
    "    [0.00000000000000, -2.05144597283373, -1.49602023445546],\n",
    "    [0.00000000000000,  2.05144597283373, -1.49602023445546],\n",
    "])\n",
    "\n",
    "_overlap_gradient = np.array([\n",
    "    [-0.00000000000000, -0.00000000000000,  0.30728746121587],\n",
    "    [ 0.00000000000000, -0.14977126575800, -0.15364373060793],\n",
    "    [-0.00000000000000,  0.14977126575800, -0.15364373060793],\n",
    "])\n",
    "\n",
    "_potential_gradient = np.array([\n",
    "    [-0.00000000000000,  0.00000000000002, -6.81982772856799],\n",
    "    [-0.00000000000000,  4.38321774316664,  3.40991386428399],\n",
    "    [ 0.00000000000000, -4.38321774316666,  3.40991386428400],\n",
    "])\n",
    "\n",
    "_kinetic_gradient = np.array([\n",
    "    [ 0.00000000000000, -0.00000000000000,  0.66968290617933],\n",
    "    [ 0.00000000000000, -0.43735698924315, -0.33484145308966],\n",
    "    [-0.00000000000000,  0.43735698924315, -0.33484145308967],\n",
    "])\n",
    "\n",
    "_coulomb_gradient = np.array([\n",
    "    [ 0.00000000000000, -0.00000000000002,  3.34742251141627],\n",
    "    [ 0.00000000000000, -2.03756324433539, -1.67371125570813],\n",
    "    [-0.00000000000000,  2.03756324433541, -1.67371125570814],\n",
    "])\n",
    "\n",
    "_exchange_gradient = np.array([\n",
    "    [-0.00000000000000,  0.00000000000000, -0.43559674130726],\n",
    "    [-0.00000000000000,  0.26932748463493,  0.21779837065363],\n",
    "    [ 0.00000000000000, -0.26932748463493,  0.21779837065363],\n",
    "])\n",
    "\n",
    "lambda_vector = [0, 0, 0]\n"
   ]
  },
  {
   "cell_type": "code",
   "execution_count": null,
   "id": "8d32e3fd-a256-43d8-b997-6b09b97790a5",
   "metadata": {},
   "outputs": [],
   "source": [
    "calc = CQEDRHFCalculator(lambda_vector, h2o_string, psi4_options)\n",
    "calc.calc_cqed_rhf_energy()"
   ]
  },
  {
   "cell_type": "code",
   "execution_count": null,
   "id": "eb263593-04a2-45b6-84b2-6d8c55cc979e",
   "metadata": {},
   "outputs": [],
   "source": [
    "calc.compute_canonical_gradients()"
   ]
  },
  {
   "cell_type": "code",
   "execution_count": null,
   "id": "9e7ef310",
   "metadata": {},
   "outputs": [],
   "source": [
    "\n",
    "print(\"nuclear repulsion gradient\")\n",
    "print(np.allclose(calc.nuclear_repulsion_gradient, _expected_nuclear_gradient))\n",
    "print(\"Overlap Gradient\")\n",
    "print(np.allclose(calc.overlap_gradient.reshape(3,3), _overlap_gradient))\n",
    "print(\"T gradient\")\n",
    "print(np.allclose(calc.kinetic_gradient.reshape(3,3), _kinetic_gradient))\n",
    "print(\"V gradient\")\n",
    "print(np.allclose(calc.potential_gradient.reshape(3,3), _potential_gradient))\n",
    "print(\"J gradient\")\n",
    "print(np.allclose(calc.J_gradient.reshape(3,3), _coulomb_gradient))\n",
    "print(\"K gradient\")\n",
    "print(np.allclose(calc.K_gradient.reshape(3,3), _exchange_gradient))\n"
   ]
  }
 ],
 "metadata": {
  "kernelspec": {
   "display_name": "Python 3 (ipykernel)",
   "language": "python",
   "name": "python3"
  },
  "language_info": {
   "codemirror_mode": {
    "name": "ipython",
    "version": 3
   },
   "file_extension": ".py",
   "mimetype": "text/x-python",
   "name": "python",
   "nbconvert_exporter": "python",
   "pygments_lexer": "ipython3",
   "version": "3.11.12"
  }
 },
 "nbformat": 4,
 "nbformat_minor": 5
}
