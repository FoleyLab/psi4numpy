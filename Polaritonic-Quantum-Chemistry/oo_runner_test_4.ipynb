{
 "cells": [
  {
   "cell_type": "markdown",
   "id": "5d49ac6a-55d2-4dcd-979c-f4326de5c388",
   "metadata": {},
   "source": [
    "## This tests the QED-RHF gradient components against Hilbert's and against numerical components\n"
   ]
  },
  {
   "cell_type": "code",
   "execution_count": null,
   "id": "c395e81e-d3bc-4155-9dcf-4c6f7357406a",
   "metadata": {},
   "outputs": [],
   "source": [
    "from oo_cqed_rhf import CQEDRHFCalculator\n",
    "import numpy as np\n",
    "import psi4\n",
    "psi4.core.be_quiet()"
   ]
  },
  {
   "cell_type": "code",
   "execution_count": null,
   "id": "b7d2f971-cad8-43d9-9da4-36c51ee29ffa",
   "metadata": {},
   "outputs": [],
   "source": [
    "# Expected gradient contributions for Water in a STO-3G basis set with the following geometry:\n",
    "h2o_string = \"\"\"\n",
    "         O            0.000000000000     0.000000000000    -0.068516219320\n",
    "         H            0.000000000000    -0.790689573744     0.543701060715\n",
    "         H            0.000000000000     0.790689573744     0.543701060715\n",
    "no_reorient\n",
    "nocom\n",
    "symmetry c1\n",
    "\"\"\"\n",
    "\n",
    "# no cavity\n",
    "lambda_vector = np.array([0, 0, 0.05])\n",
    "print(lambda_vector)\n",
    "# options for H2O\n",
    "psi4_options = {\n",
    "    \"basis\": \"cc-pVDZ\",\n",
    "    \"save_jk\": True,\n",
    "    \"scf_type\": \"pk\",\n",
    "    \"e_convergence\": 1e-12,\n",
    "    \"d_convergence\": 1e-12,\n",
    "}\n",
    "\n",
    "\n",
    "\n"
   ]
  },
  {
   "cell_type": "code",
   "execution_count": null,
   "id": "8d32e3fd-a256-43d8-b997-6b09b97790a5",
   "metadata": {},
   "outputs": [],
   "source": [
    "calc = CQEDRHFCalculator(lambda_vector, h2o_string, psi4_options)\n",
    "calc.calc_cqed_rhf_energy()\n",
    "_expected_qed_rhf_energy = -76.016355284146\n",
    "print(F\"CQED-RHF ENERGY Matches Expected Value: {np.isclose(calc.cqed_rhf_energy, _expected_qed_rhf_energy, 1e-9,1e-9)}\")"
   ]
  },
  {
   "cell_type": "code",
   "execution_count": null,
   "id": "eb263593-04a2-45b6-84b2-6d8c55cc979e",
   "metadata": {},
   "outputs": [],
   "source": [
    "calc.gradient_summary()"
   ]
  },
  {
   "cell_type": "code",
   "execution_count": null,
   "id": "ff1ba5ab-55c7-4851-ae59-c0836236918f",
   "metadata": {},
   "outputs": [],
   "source": []
  }
 ],
 "metadata": {
  "kernelspec": {
   "display_name": "Python 3 (ipykernel)",
   "language": "python",
   "name": "python3"
  },
  "language_info": {
   "codemirror_mode": {
    "name": "ipython",
    "version": 3
   },
   "file_extension": ".py",
   "mimetype": "text/x-python",
   "name": "python",
   "nbconvert_exporter": "python",
   "pygments_lexer": "ipython3",
   "version": "3.11.12"
  }
 },
 "nbformat": 4,
 "nbformat_minor": 5
}
