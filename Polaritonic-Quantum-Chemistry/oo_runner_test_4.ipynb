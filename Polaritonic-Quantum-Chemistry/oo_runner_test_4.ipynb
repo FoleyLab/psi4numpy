{
 "cells": [
  {
   "cell_type": "markdown",
   "id": "5d49ac6a-55d2-4dcd-979c-f4326de5c388",
   "metadata": {},
   "source": [
    "## This tests the QED-RHF gradient components against Hilbert's and against numerical components\n"
   ]
  },
  {
   "cell_type": "code",
   "execution_count": 1,
   "id": "c395e81e-d3bc-4155-9dcf-4c6f7357406a",
   "metadata": {},
   "outputs": [
    {
     "data": {
      "application/vnd.jupyter.widget-view+json": {
       "model_id": "20ed98cf0ff34c18bbb8abdcd424223c",
       "version_major": 2,
       "version_minor": 0
      },
      "text/plain": []
     },
     "metadata": {},
     "output_type": "display_data"
    }
   ],
   "source": [
    "from oo_cqed_rhf import CQEDRHFCalculator\n",
    "import numpy as np\n",
    "import psi4\n",
    "psi4.core.be_quiet()"
   ]
  },
  {
   "cell_type": "code",
   "execution_count": 2,
   "id": "b7d2f971-cad8-43d9-9da4-36c51ee29ffa",
   "metadata": {},
   "outputs": [
    {
     "name": "stdout",
     "output_type": "stream",
     "text": [
      "[0.   0.   0.05]\n"
     ]
    }
   ],
   "source": [
    "# Expected gradient contributions for Water in a STO-3G basis set with the following geometry:\n",
    "h2o_string = \"\"\"\n",
    "         O            0.000000000000     0.000000000000    -0.068516219320\n",
    "         H            0.000000000000    -0.790689573744     0.543701060715\n",
    "         H            0.000000000000     0.790689573744     0.543701060715\n",
    "no_reorient\n",
    "nocom\n",
    "symmetry c1\n",
    "\"\"\"\n",
    "\n",
    "# no cavity\n",
    "lambda_vector = np.array([0, 0, 0.05])\n",
    "print(lambda_vector)\n",
    "# options for H2O\n",
    "psi4_options = {\n",
    "    \"basis\": \"cc-pVDZ\",\n",
    "    \"save_jk\": True,\n",
    "    \"scf_type\": \"pk\",\n",
    "    \"e_convergence\": 1e-12,\n",
    "    \"d_convergence\": 1e-12,\n",
    "}\n",
    "\n",
    "\n",
    "\n"
   ]
  },
  {
   "cell_type": "markdown",
   "id": "855bdc8e-5099-423c-9fb7-71318fbdf28c",
   "metadata": {},
   "source": [
    "### The next block will instantiate the class and compute the CQED-RHF energy"
   ]
  },
  {
   "cell_type": "code",
   "execution_count": 3,
   "id": "8d32e3fd-a256-43d8-b997-6b09b97790a5",
   "metadata": {},
   "outputs": [
    {
     "name": "stdout",
     "output_type": "stream",
     "text": [
      "CQED-RHF ENERGY Matches Expected Value: True\n"
     ]
    }
   ],
   "source": [
    "calc = CQEDRHFCalculator(lambda_vector, h2o_string, psi4_options)\n",
    "calc.calc_cqed_rhf_energy()\n",
    "_expected_qed_rhf_energy = -76.016355284146\n",
    "print(F\"CQED-RHF ENERGY Matches Expected Value: {np.isclose(calc.cqed_rhf_energy, _expected_qed_rhf_energy, 1e-9,1e-9)}\")"
   ]
  },
  {
   "cell_type": "markdown",
   "id": "7e4eef8d-a308-456b-9dd4-8b3f8a496928",
   "metadata": {},
   "source": [
    "### The next block will run several gradient calculations and print summaries of the results:\n",
    "1. `self.compute_analytic_gradient(use_psi4=False)` will compute all CQED-RHF gradient terms using class methods.  The following attributes will be assigned:\n",
    "\n",
    "   `.overlap_gradient` - the Pulay force\n",
    "\n",
    "   `.kinetic_gradient` - the kinetic gradient term\n",
    "\n",
    "   `.potential_gradient` - the potential gradient term\n",
    "\n",
    "   `.J_gradient` - the J gradient term\n",
    "\n",
    "   `.K_gradient` - the K gradient term\n",
    "\n",
    "   `.nuclear_repulsion_gradient` - the nuclear repulsion gradient term\n",
    "\n",
    "   `.canonical_scf_gradient` - the sum of all of the above gradient terms, i.e. all of the terms that contribute to the RHF gradient\n",
    "\n",
    "   `.o_dse_gradient` - the one-electron dipole self energy gradient term (from quadrupole)\n",
    "\n",
    "   `.K_dse_gradient` - the two-electron dipole self energy gradient term (from exchange dipole-dipole term\n",
    "\n",
    "   `.qedrhf_gradient` - the total qed-rhf gradient, which is the sum of the canonical_scf_gradient and the dse gradient terms\n",
    "\n",
    "2. `self.compute_numerical_gradient()` will compute the CQED-RHF gradient using centered finite differences\n",
    "\n",
    "3. `self.compute_analytic_gradient(use_psi4=True)` will compute the canonical RHF gradient terms using `psi4.core.scfgrad(wfn)`.  Importantly, this will first update the `wfn` object using CQED-RHF quantities, so it should give the same gradient as the `.canonical_scf_gradient` computed in step 1.\n",
    "\n",
    "\n",
    "Following these three computations, the following information will be printed:\n",
    "\n",
    "1. The total analytical CQED-RHF gradient computed in step 1 above\n",
    "2. The numerical CQED-RHF gradient computed in step 2 above\n",
    "3. The norm of the difference between the analytical and numerical gradients\n",
    "4. The analytical canonical RHF gradient computed in step 1 above\n",
    "5. The analytical canonical RHF gradient computed from psi4.core.scfgrad() in step 3 above\n",
    "6. The norm of the difference between our analytical and psi4's analytical canonical RHF gradient\n",
    "\n",
    "**Note** It seems that psi4's scfgrad may utilize density fitting, so the agreement between our canonical RHF gradient and psi4s may be on the order of the density fitting error, 1e-6 or 1e-5.\n",
    "   "
   ]
  },
  {
   "cell_type": "code",
   "execution_count": 4,
   "id": "eb263593-04a2-45b6-84b2-6d8c55cc979e",
   "metadata": {},
   "outputs": [
    {
     "name": "stdout",
     "output_type": "stream",
     "text": [
      "Time for Fock matrix term: 5.060e-03 s\n",
      "Time for One-electron gradient terms: 5.122e-03 s\n",
      "Time for Two-electron gradient terms: 4.061e-01 s\n",
      "Time for Nuclear repulsion gradient: 2.429e-04 s\n",
      "Time for Dipole-dipole gradient: 1.060e-03 s\n",
      "Time for Quadrupole gradient: 2.401e-04 s\n",
      "Final gradient assembly using class: 4.181e-01 s\n",
      "Time to compute numerical CQED-RHF gradient: 1.9457 seconds\n",
      "\n",
      "Analytical CQED-RHF Gradient:\n",
      "\n",
      "[[-3.76017513e-17 -1.40426403e-16 -6.18354868e-02]\n",
      " [-1.51104989e-17 -4.35899496e-02  3.09177434e-02]\n",
      " [ 5.27122502e-17  4.35899496e-02  3.09177434e-02]]\n",
      "\n",
      "Numerical CQED-RHF Gradient:\n",
      "\n",
      "[[ 3.76003023e-09 -2.25601814e-09 -6.18354847e-02]\n",
      " [ 6.76805442e-09 -4.35899478e-02  3.09177412e-02]\n",
      " [ 3.76003023e-10  4.35899447e-02  3.09177435e-02]]\n",
      "\n",
      "Difference between analytical and numerical gradient: 1.0065e-08\n",
      "\n",
      "Using Psi4 to compute the canonical RHF gradient for comparison...\n",
      "\n",
      "Time for SCF gradient via Psi4: 1.306e-02 s\n",
      "Time for Quadrupole gradient: 3.109e-04 s\n",
      "Time Dipole-dipole gradient: 9.122e-04 s\n",
      "Final gradient assembly using psi4: 1.431e-02 s\n",
      "Analytical Canonical Gradient:\n",
      "\n",
      "[[-3.69561367e-17 -1.40084745e-16 -6.01300796e-02]\n",
      " [-1.48146760e-17 -4.33923429e-02  3.00650398e-02]\n",
      " [ 5.17708127e-17  4.33923429e-02  3.00650398e-02]]\n",
      "Analytical Canonical Gradient using Psi4:\n",
      "\n",
      "[[-3.52798042e-16  3.72044542e-06 -6.01260568e-02]\n",
      " [ 1.10064853e-16 -4.33928958e-02  3.00647422e-02]\n",
      " [ 2.42733188e-16  4.33891753e-02  3.00613146e-02]]\n",
      "\n",
      "Difference between analytical and Psi4 canonical gradient: 7.3708e-06\n",
      "\n"
     ]
    }
   ],
   "source": [
    "calc.gradient_summary()"
   ]
  },
  {
   "cell_type": "code",
   "execution_count": null,
   "id": "79c095ab-c93a-45b8-8513-a6f068285d47",
   "metadata": {},
   "outputs": [],
   "source": []
  },
  {
   "cell_type": "code",
   "execution_count": null,
   "id": "ff1ba5ab-55c7-4851-ae59-c0836236918f",
   "metadata": {},
   "outputs": [],
   "source": []
  }
 ],
 "metadata": {
  "kernelspec": {
   "display_name": "Python 3 (ipykernel)",
   "language": "python",
   "name": "python3"
  },
  "language_info": {
   "codemirror_mode": {
    "name": "ipython",
    "version": 3
   },
   "file_extension": ".py",
   "mimetype": "text/x-python",
   "name": "python",
   "nbconvert_exporter": "python",
   "pygments_lexer": "ipython3",
   "version": "3.11.12"
  }
 },
 "nbformat": 4,
 "nbformat_minor": 5
}
