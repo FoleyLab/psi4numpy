{
 "cells": [
  {
   "cell_type": "markdown",
   "id": "5d49ac6a-55d2-4dcd-979c-f4326de5c388",
   "metadata": {},
   "source": [
    "## This tests the QED-RHF gradient components against Hilbert's and against numerical components\n"
   ]
  },
  {
   "cell_type": "code",
   "execution_count": 1,
   "id": "c395e81e-d3bc-4155-9dcf-4c6f7357406a",
   "metadata": {},
   "outputs": [
    {
     "data": {
      "application/vnd.jupyter.widget-view+json": {
       "model_id": "bfdb099a3b8f4d58b225617aab6d7fe0",
       "version_major": 2,
       "version_minor": 0
      },
      "text/plain": []
     },
     "metadata": {},
     "output_type": "display_data"
    },
    {
     "name": "stdout",
     "output_type": "stream",
     "text": [
      "[PhysicalDevice(name='/physical_device:GPU:0', device_type='GPU')]\n"
     ]
    }
   ],
   "source": [
    "from oo_cqed_rhf import CQEDRHFCalculator\n",
    "import numpy as np\n",
    "import psi4\n",
    "psi4.core.be_quiet()"
   ]
  },
  {
   "cell_type": "code",
   "execution_count": 2,
   "id": "b7d2f971-cad8-43d9-9da4-36c51ee29ffa",
   "metadata": {},
   "outputs": [
    {
     "name": "stdout",
     "output_type": "stream",
     "text": [
      "[0.   0.   0.05]\n"
     ]
    }
   ],
   "source": [
    "# Expected gradient contributions for Water in a STO-3G basis set with the following geometry:\n",
    "h2o_string = \"\"\"\n",
    "         O            0.000000000000     0.000000000000    -0.068516219320\n",
    "         H            0.000000000000    -0.790689573744     0.543701060715\n",
    "         H            0.000000000000     0.790689573744     0.543701060715\n",
    "no_reorient\n",
    "nocom\n",
    "symmetry c1\n",
    "\"\"\"\n",
    "\n",
    "# no cavity\n",
    "lambda_vector = np.array([0, 0, 0.05])\n",
    "print(lambda_vector)\n",
    "# options for H2O\n",
    "psi4_options = {\n",
    "    \"basis\": \"cc-pVDZ\",\n",
    "    \"save_jk\": True,\n",
    "    \"scf_type\": \"pk\",\n",
    "    \"e_convergence\": 1e-12,\n",
    "    \"d_convergence\": 1e-12,\n",
    "}\n",
    "\n",
    "\n",
    "\n"
   ]
  },
  {
   "cell_type": "markdown",
   "id": "855bdc8e-5099-423c-9fb7-71318fbdf28c",
   "metadata": {},
   "source": [
    "### The next block will instantiate the class and compute the CQED-RHF energy"
   ]
  },
  {
   "cell_type": "code",
   "execution_count": 3,
   "id": "8d32e3fd-a256-43d8-b997-6b09b97790a5",
   "metadata": {},
   "outputs": [
    {
     "name": "stdout",
     "output_type": "stream",
     "text": [
      "CQED-RHF ENERGY Matches Expected Value: True\n"
     ]
    }
   ],
   "source": [
    "calc = CQEDRHFCalculator(lambda_vector, h2o_string, psi4_options)\n",
    "calc.calc_cqed_rhf_energy()\n",
    "_expected_qed_rhf_energy = -76.016355284146\n",
    "print(F\"CQED-RHF ENERGY Matches Expected Value: {np.isclose(calc.cqed_rhf_energy, _expected_qed_rhf_energy, 1e-9,1e-9)}\")"
   ]
  },
  {
   "cell_type": "markdown",
   "id": "7e4eef8d-a308-456b-9dd4-8b3f8a496928",
   "metadata": {},
   "source": [
    "### The next block will run several gradient calculations and print summaries of the results:\n",
    "1. `self.compute_analytic_gradient(use_psi4=False)` will compute all CQED-RHF gradient terms using class methods.  The following attributes will be assigned:\n",
    "\n",
    "   `.overlap_gradient` - the Pulay force\n",
    "\n",
    "   `.kinetic_gradient` - the kinetic gradient term\n",
    "\n",
    "   `.potential_gradient` - the potential gradient term\n",
    "\n",
    "   `.J_gradient` - the J gradient term\n",
    "\n",
    "   `.K_gradient` - the K gradient term\n",
    "\n",
    "   `.nuclear_repulsion_gradient` - the nuclear repulsion gradient term\n",
    "\n",
    "   `.canonical_scf_gradient` - the sum of all of the above gradient terms, i.e. all of the terms that contribute to the RHF gradient\n",
    "\n",
    "   `.o_dse_gradient` - the one-electron dipole self energy gradient term (from quadrupole)\n",
    "\n",
    "   `.K_dse_gradient` - the two-electron dipole self energy gradient term (from exchange dipole-dipole term\n",
    "\n",
    "   `.qedrhf_gradient` - the total qed-rhf gradient, which is the sum of the canonical_scf_gradient and the dse gradient terms\n",
    "\n",
    "2. `self.compute_numerical_gradient()` will compute the CQED-RHF gradient using centered finite differences\n",
    "\n",
    "3. `self.compute_analytic_gradient(use_psi4=True)` will compute the canonical RHF gradient terms using `psi4.core.scfgrad(wfn)`.  Importantly, this will first update the `wfn` object using CQED-RHF quantities, so it should give the same gradient as the `.canonical_scf_gradient` computed in step 1.\n",
    "\n",
    "\n",
    "Following these three computations, the following information will be printed:\n",
    "\n",
    "1. The total analytical CQED-RHF gradient computed in step 1 above\n",
    "2. The numerical CQED-RHF gradient computed in step 2 above\n",
    "3. The norm of the difference between the analytical and numerical gradients\n",
    "4. The analytical canonical RHF gradient computed in step 1 above\n",
    "5. The analytical canonical RHF gradient computed from psi4.core.scfgrad() in step 3 above\n",
    "6. The norm of the difference between our analytical and psi4's analytical canonical RHF gradient\n",
    "\n",
    "**Note** It seems that psi4's scfgrad may utilize density fitting, so the agreement between our canonical RHF gradient and psi4s may be on the order of the density fitting error, 1e-6 or 1e-5.\n",
    "   "
   ]
  },
  {
   "cell_type": "code",
   "execution_count": 5,
   "id": "eb263593-04a2-45b6-84b2-6d8c55cc979e",
   "metadata": {},
   "outputs": [
    {
     "name": "stdout",
     "output_type": "stream",
     "text": [
      "Time for Fock matrix term: 2.941e-03 s\n",
      "Time for One-electron gradient terms: 5.730e-03 s\n"
     ]
    },
    {
     "ename": "InvalidArgumentError",
     "evalue": "cannot compute Einsum as input #1(zero-based) was expected to be a float tensor but is a double tensor [Op:Einsum] name: ",
     "output_type": "error",
     "traceback": [
      "\u001b[31m---------------------------------------------------------------------------\u001b[39m",
      "\u001b[31mInvalidArgumentError\u001b[39m                      Traceback (most recent call last)",
      "\u001b[36mCell\u001b[39m\u001b[36m \u001b[39m\u001b[32mIn[5]\u001b[39m\u001b[32m, line 1\u001b[39m\n\u001b[32m----> \u001b[39m\u001b[32m1\u001b[39m calc.gradient_summary()\n",
      "\u001b[36mFile \u001b[39m\u001b[32m~/Code/psi4numpy/Polaritonic-Quantum-Chemistry/oo_cqed_rhf.py:775\u001b[39m, in \u001b[36mCQEDRHFCalculator.gradient_summary\u001b[39m\u001b[34m(self)\u001b[39m\n\u001b[32m    772\u001b[39m \u001b[38;5;28;01mdef\u001b[39;00m\u001b[38;5;250m \u001b[39m\u001b[34mgradient_summary\u001b[39m(\u001b[38;5;28mself\u001b[39m):\n\u001b[32m    773\u001b[39m     \u001b[38;5;66;03m# time each step\u001b[39;00m\n\u001b[32m    774\u001b[39m     time_start = time.time()\n\u001b[32m--> \u001b[39m\u001b[32m775\u001b[39m     \u001b[38;5;28mself\u001b[39m.compute_analytic_gradient(use_psi4=\u001b[38;5;28;01mFalse\u001b[39;00m)\n\u001b[32m    776\u001b[39m     time_end = time.time()\n\u001b[32m    777\u001b[39m     \u001b[38;5;66;03m#print(f\"Time to compute analytic CQED-RHF gradient: {time_end - time_start:.4f} seconds\\n\")\u001b[39;00m\n",
      "\u001b[36mFile \u001b[39m\u001b[32m~/Code/psi4numpy/Polaritonic-Quantum-Chemistry/oo_cqed_rhf.py:740\u001b[39m, in \u001b[36mCQEDRHFCalculator.compute_analytic_gradient\u001b[39m\u001b[34m(self, use_psi4)\u001b[39m\n\u001b[32m    737\u001b[39m \u001b[38;5;28mprint\u001b[39m(\u001b[33mf\u001b[39m\u001b[33m\"\u001b[39m\u001b[33mTime for One-electron gradient terms: \u001b[39m\u001b[38;5;132;01m{\u001b[39;00mtime.time()\u001b[38;5;250m \u001b[39m-\u001b[38;5;250m \u001b[39mt1\u001b[38;5;132;01m:\u001b[39;00m\u001b[33m.3e\u001b[39m\u001b[38;5;132;01m}\u001b[39;00m\u001b[33m s\u001b[39m\u001b[33m\"\u001b[39m)\n\u001b[32m    739\u001b[39m t2 = time.time()\n\u001b[32m--> \u001b[39m\u001b[32m740\u001b[39m \u001b[38;5;28mself\u001b[39m.compute_two_electron_integral_gradient_terms_2()\n\u001b[32m    741\u001b[39m \u001b[38;5;28mprint\u001b[39m(\u001b[33mf\u001b[39m\u001b[33m\"\u001b[39m\u001b[33mTime for Two-electron gradient terms: \u001b[39m\u001b[38;5;132;01m{\u001b[39;00mtime.time()\u001b[38;5;250m \u001b[39m-\u001b[38;5;250m \u001b[39mt2\u001b[38;5;132;01m:\u001b[39;00m\u001b[33m.3e\u001b[39m\u001b[38;5;132;01m}\u001b[39;00m\u001b[33m s\u001b[39m\u001b[33m\"\u001b[39m)\n\u001b[32m    743\u001b[39m t3 = time.time()\n",
      "\u001b[36mFile \u001b[39m\u001b[32m~/Code/psi4numpy/Polaritonic-Quantum-Chemistry/oo_cqed_rhf.py:620\u001b[39m, in \u001b[36mCQEDRHFCalculator.compute_two_electron_integral_gradient_terms_2\u001b[39m\u001b[34m(self)\u001b[39m\n\u001b[32m    617\u001b[39m \u001b[38;5;66;03m# convert to tensorflow array \u001b[39;00m\n\u001b[32m    618\u001b[39m eri_tf = tf.convert_to_tensor(eri_deriv, dtype=tf.float32)\n\u001b[32m--> \u001b[39m\u001b[32m620\u001b[39m J_grad = \u001b[32m0.5\u001b[39m * tf.einsum(\u001b[33m\"\u001b[39m\u001b[33muv,xuvls,ls->x\u001b[39m\u001b[33m\"\u001b[39m, D_tf, eri_tf, D_tf)\n\u001b[32m    621\u001b[39m K_grad = -\u001b[32m0.25\u001b[39m * tf.einsum(\u001b[33m\"\u001b[39m\u001b[33muv,xulvs,ls->x\u001b[39m\u001b[33m\"\u001b[39m, D_tf, eri_tf, D_tf)\n\u001b[32m    623\u001b[39m \u001b[38;5;28mself\u001b[39m.J_gradient[atom_index, :] = J_grad.numpy()\n",
      "\u001b[36mFile \u001b[39m\u001b[32m~/miniconda3/envs/psi4_new/lib/python3.11/site-packages/tensorflow/python/util/traceback_utils.py:153\u001b[39m, in \u001b[36mfilter_traceback.<locals>.error_handler\u001b[39m\u001b[34m(*args, **kwargs)\u001b[39m\n\u001b[32m    151\u001b[39m \u001b[38;5;28;01mexcept\u001b[39;00m \u001b[38;5;167;01mException\u001b[39;00m \u001b[38;5;28;01mas\u001b[39;00m e:\n\u001b[32m    152\u001b[39m   filtered_tb = _process_traceback_frames(e.__traceback__)\n\u001b[32m--> \u001b[39m\u001b[32m153\u001b[39m   \u001b[38;5;28;01mraise\u001b[39;00m e.with_traceback(filtered_tb) \u001b[38;5;28;01mfrom\u001b[39;00m\u001b[38;5;250m \u001b[39m\u001b[38;5;28;01mNone\u001b[39;00m\n\u001b[32m    154\u001b[39m \u001b[38;5;28;01mfinally\u001b[39;00m:\n\u001b[32m    155\u001b[39m   \u001b[38;5;28;01mdel\u001b[39;00m filtered_tb\n",
      "\u001b[36mFile \u001b[39m\u001b[32m~/miniconda3/envs/psi4_new/lib/python3.11/site-packages/tensorflow/python/framework/ops.py:5983\u001b[39m, in \u001b[36mraise_from_not_ok_status\u001b[39m\u001b[34m(e, name)\u001b[39m\n\u001b[32m   5981\u001b[39m \u001b[38;5;28;01mdef\u001b[39;00m\u001b[38;5;250m \u001b[39m\u001b[34mraise_from_not_ok_status\u001b[39m(e, name) -> NoReturn:\n\u001b[32m   5982\u001b[39m   e.message += (\u001b[33m\"\u001b[39m\u001b[33m name: \u001b[39m\u001b[33m\"\u001b[39m + \u001b[38;5;28mstr\u001b[39m(name \u001b[38;5;28;01mif\u001b[39;00m name \u001b[38;5;129;01mis\u001b[39;00m \u001b[38;5;129;01mnot\u001b[39;00m \u001b[38;5;28;01mNone\u001b[39;00m \u001b[38;5;28;01melse\u001b[39;00m \u001b[33m\"\u001b[39m\u001b[33m\"\u001b[39m))\n\u001b[32m-> \u001b[39m\u001b[32m5983\u001b[39m   \u001b[38;5;28;01mraise\u001b[39;00m core._status_to_exception(e) \u001b[38;5;28;01mfrom\u001b[39;00m\u001b[38;5;250m \u001b[39m\u001b[38;5;28;01mNone\u001b[39;00m\n",
      "\u001b[31mInvalidArgumentError\u001b[39m: cannot compute Einsum as input #1(zero-based) was expected to be a float tensor but is a double tensor [Op:Einsum] name: "
     ]
    }
   ],
   "source": [
    "calc.gradient_summary()\n",
    "#Time for Two-electron gradient terms: 4.265e-01 s"
   ]
  },
  {
   "cell_type": "code",
   "execution_count": null,
   "id": "79c095ab-c93a-45b8-8513-a6f068285d47",
   "metadata": {},
   "outputs": [],
   "source": [
    "import tensorflow as tf\n",
    "print(tf.config.list_physical_devices('GPU'))"
   ]
  },
  {
   "cell_type": "code",
   "execution_count": null,
   "id": "ff1ba5ab-55c7-4851-ae59-c0836236918f",
   "metadata": {},
   "outputs": [],
   "source": []
  }
 ],
 "metadata": {
  "kernelspec": {
   "display_name": "Python 3 (ipykernel)",
   "language": "python",
   "name": "python3"
  },
  "language_info": {
   "codemirror_mode": {
    "name": "ipython",
    "version": 3
   },
   "file_extension": ".py",
   "mimetype": "text/x-python",
   "name": "python",
   "nbconvert_exporter": "python",
   "pygments_lexer": "ipython3",
   "version": "3.11.12"
  }
 },
 "nbformat": 4,
 "nbformat_minor": 5
}
