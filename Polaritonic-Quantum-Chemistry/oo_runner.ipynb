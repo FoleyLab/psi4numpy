{
 "cells": [
  {
   "cell_type": "code",
   "execution_count": 1,
   "id": "c395e81e-d3bc-4155-9dcf-4c6f7357406a",
   "metadata": {},
   "outputs": [
    {
     "data": {
      "application/vnd.jupyter.widget-view+json": {
       "model_id": "8c142506b2db4fe58e2763d8f01782c6",
       "version_major": 2,
       "version_minor": 0
      },
      "text/plain": []
     },
     "metadata": {},
     "output_type": "display_data"
    }
   ],
   "source": [
    "from oo_cqed_rhf import CQEDRHFCalculator\n",
    "import numpy as np\n",
    "import psi4"
   ]
  },
  {
   "cell_type": "code",
   "execution_count": 9,
   "id": "b7d2f971-cad8-43d9-9da4-36c51ee29ffa",
   "metadata": {},
   "outputs": [],
   "source": [
    "lambda_vector = [0.0, 0.0,0.13041133]\n",
    "# molecule string for H2O\n",
    "molecule_string = \"\"\"\n",
    "0 1\n",
    "    O      0.000000000000   0.000000000000  -0.068516219320\n",
    "    H      0.000000000000  -0.790689573744   0.543701060715\n",
    "    H      0.000000000000   0.790689573744   0.543701060715\n",
    "no_reorient\n",
    "no_com\n",
    "symmetry c1\n",
    "\"\"\"\n",
    "\n",
    "# options for H2O\n",
    "psi4_options = {\n",
    "    \"basis\": \"cc-pVDZ\",\n",
    "    \"save_jk\": True,\n",
    "    \"scf_type\": \"pk\",\n",
    "    \"e_convergence\": 1e-12,\n",
    "    \"d_convergence\": 1e-12,\n",
    "}\n"
   ]
  },
  {
   "cell_type": "code",
   "execution_count": 10,
   "id": "8d32e3fd-a256-43d8-b997-6b09b97790a5",
   "metadata": {},
   "outputs": [
    {
     "name": "stdout",
     "output_type": "stream",
     "text": [
      "\n",
      "Scratch directory: /tmp/\n",
      "   => Libint2 <=\n",
      "\n",
      "    Primary   basis highest AM E, G, H:  6, 6, 3\n",
      "    Auxiliary basis highest AM E, G, H:  7, 7, 4\n",
      "    Onebody   basis highest AM E, G, H:  -, -, -\n",
      "    Solid Harmonics ordering:            Gaussian\n",
      "\n",
      "*** tstart() called on CHEM9QDFT72ALT\n",
      "*** at Tue Jun 17 17:11:35 2025\n",
      "\n",
      "   => Loading Basis Set <=\n",
      "\n",
      "    Name: CC-PVDZ\n",
      "    Role: ORBITAL\n",
      "    Keyword: BASIS\n",
      "    atoms 1   entry O          line   198 file /Users/jfoley19/miniconda3/envs/psi4_new/share/psi4/basis/cc-pvdz.gbs \n",
      "    atoms 2-3 entry H          line    22 file /Users/jfoley19/miniconda3/envs/psi4_new/share/psi4/basis/cc-pvdz.gbs \n",
      "\n",
      "\n",
      "         ---------------------------------------------------------\n",
      "                                   SCF\n",
      "               by Justin Turney, Rob Parrish, Andy Simmonett\n",
      "                          and Daniel G. A. Smith\n",
      "                              RHF Reference\n",
      "                        1 Threads,    500 MiB Core\n",
      "         ---------------------------------------------------------\n",
      "\n",
      "  ==> Geometry <==\n",
      "\n",
      "    Molecular point group: c1\n",
      "    Full point group: C2v\n",
      "\n",
      "    Geometry (in Angstrom), charge = 0, multiplicity = 1:\n",
      "\n",
      "       Center              X                  Y                   Z               Mass       \n",
      "    ------------   -----------------  -----------------  -----------------  -----------------\n",
      "         O            0.000000000000     0.000000000000    -0.068516219320    15.994914619570\n",
      "         H            0.000000000000    -0.790689573744     0.543701060715     1.007825032230\n",
      "         H            0.000000000000     0.790689573744     0.543701060715     1.007825032230\n",
      "\n",
      "  Running in c1 symmetry.\n",
      "\n",
      "  Rotational constants: A =     25.12555  B =     13.37733  C =      8.72955 [cm^-1]\n",
      "  Rotational constants: A = 753245.07149  B = 401042.16706  C = 261705.25473 [MHz]\n",
      "  Nuclear repulsion =    8.801465564563406\n",
      "\n",
      "  Charge       = 0\n",
      "  Multiplicity = 1\n",
      "  Electrons    = 10\n",
      "  Nalpha       = 5\n",
      "  Nbeta        = 5\n",
      "\n",
      "  ==> Algorithm <==\n",
      "\n",
      "  SCF Algorithm Type is PK.\n",
      "  DIIS enabled.\n",
      "  MOM disabled.\n",
      "  Fractional occupation disabled.\n",
      "  Guess Type is SAD.\n",
      "  Energy threshold   = 1.00e-12\n",
      "  Density threshold  = 1.00e-12\n",
      "  Integral threshold = 1.00e-12\n",
      "\n",
      "  ==> Primary Basis <==\n",
      "\n",
      "  Basis Set: CC-PVDZ\n",
      "    Blend: CC-PVDZ\n",
      "    Number of shells: 12\n",
      "    Number of basis functions: 24\n",
      "    Number of Cartesian functions: 25\n",
      "    Spherical Harmonics?: true\n",
      "    Max angular momentum: 2\n",
      "\n",
      "  ==> Integral Setup <==\n",
      "\n",
      "  Using in-core PK algorithm.\n",
      "   Calculation information:\n",
      "      Number of atoms:                   3\n",
      "      Number of AO shells:              12\n",
      "      Number of primitives:             32\n",
      "      Number of atomic orbitals:        25\n",
      "      Number of basis functions:        24\n",
      "\n",
      "      Integral cutoff                 1.00e-12\n",
      "      Number of threads:                 1\n",
      "\n",
      "  Performing in-core PK\n",
      "  Using 90300 doubles for integral storage.\n",
      "  We computed 3081 shell quartets total.\n",
      "  Whereas there are 3081 unique shell quartets.\n",
      "\n",
      "  ==> DiskJK: Disk-Based J/K Matrices <==\n",
      "\n",
      "    J tasked:                  Yes\n",
      "    K tasked:                  Yes\n",
      "    wK tasked:                  No\n",
      "    Memory [MiB]:              375\n",
      "    Schwarz Cutoff:          1E-12\n",
      "\n",
      "    OpenMP threads:              1\n",
      "\n",
      "  Minimum eigenvalue in the overlap matrix is 3.7382439197E-02.\n",
      "  Reciprocal condition number of the overlap matrix is 1.0328862040E-02.\n",
      "    Using symmetric orthogonalization.\n",
      "\n",
      "  ==> Pre-Iterations <==\n",
      "\n",
      "  SCF Guess: Superposition of Atomic Densities via on-the-fly atomic UHF (no occupation information).\n",
      "\n",
      "   -------------------------\n",
      "    Irrep   Nso     Nmo    \n",
      "   -------------------------\n",
      "     A         24      24 \n",
      "   -------------------------\n",
      "    Total      24      24\n",
      "   -------------------------\n",
      "\n",
      "  ==> Iterations <==\n",
      "\n",
      "                        Total Energy        Delta E     RMS |[F,P]|\n",
      "\n",
      "   @RHF iter SAD:   -75.45138545885163   -7.54514e+01   0.00000e+00 \n",
      "   @RHF iter   1:   -75.94582287391556   -4.94437e-01   1.74041e-02 ADIIS/DIIS\n",
      "   @RHF iter   2:   -75.99966526658656   -5.38424e-02   1.04508e-02 ADIIS/DIIS\n",
      "   @RHF iter   3:   -76.02085895081646   -2.11937e-02   1.12221e-03 ADIIS/DIIS\n",
      "   @RHF iter   4:   -76.02139048908876   -5.31538e-04   2.41494e-04 ADIIS/DIIS\n",
      "   @RHF iter   5:   -76.02141722093887   -2.67319e-05   4.33360e-05 DIIS\n",
      "   @RHF iter   6:   -76.02141841382614   -1.19289e-06   6.66361e-06 DIIS\n",
      "   @RHF iter   7:   -76.02141844499258   -3.11664e-08   1.05366e-06 DIIS\n",
      "   @RHF iter   8:   -76.02141844586909   -8.76511e-10   2.60379e-07 DIIS\n",
      "   @RHF iter   9:   -76.02141844593014   -6.10498e-11   4.11986e-08 DIIS\n",
      "   @RHF iter  10:   -76.02141844593136   -1.22213e-12   3.56620e-09 DIIS\n",
      "   @RHF iter  11:   -76.02141844593142   -5.68434e-14   5.85892e-10 DIIS\n",
      "   @RHF iter  12:   -76.02141844593139    2.84217e-14   3.15578e-11 DIIS\n",
      "   @RHF iter  13:   -76.02141844593149   -9.94760e-14   4.64750e-12 DIIS\n",
      "   @RHF iter  14:   -76.02141844593139    9.94760e-14   4.43273e-13 DIIS\n",
      "  Energy and wave function converged.\n",
      "\n",
      "\n",
      "  ==> Post-Iterations <==\n",
      "\n",
      "    Orbital Energies [Eh]\n",
      "    ---------------------\n",
      "\n",
      "    Doubly Occupied:                                                      \n",
      "\n",
      "       1A    -20.557846     2A     -1.316181     3A     -0.677073  \n",
      "       4A     -0.558726     5A     -0.490383  \n",
      "\n",
      "    Virtual:                                                              \n",
      "\n",
      "       6A      0.178011     7A      0.249490     8A      0.760274  \n",
      "       9A      0.816118    10A      1.166182    11A      1.198611  \n",
      "      12A      1.256467    13A      1.452518    14A      1.466082  \n",
      "      15A      1.667951    16A      1.877148    17A      1.889827  \n",
      "      18A      2.354901    19A      2.388286    20A      3.248786  \n",
      "      21A      3.297834    22A      3.453879    23A      3.821364  \n",
      "      24A      4.099041  \n",
      "\n",
      "    Final Occupation by Irrep:\n",
      "              A \n",
      "    DOCC [     5 ]\n",
      "    NA   [     5 ]\n",
      "    NB   [     5 ]\n",
      "\n",
      "  @RHF Final Energy:   -76.02141844593139\n",
      "\n",
      "   => Energetics <=\n",
      "\n",
      "    Nuclear Repulsion Energy =              8.8014655645634061\n",
      "    One-Electron Energy =                -122.4453516827557138\n",
      "    Two-Electron Energy =                  37.6224676722609175\n",
      "    Total Energy =                        -76.0214184459314026\n",
      "\n",
      "Computation Completed\n",
      "\n",
      "\n",
      "Properties will be evaluated at   0.000000,   0.000000,   0.000000 [a0]\n",
      "\n",
      "Properties computed using the SCF density matrix\n",
      "\n",
      "\n",
      " Multipole Moments:\n",
      "\n",
      " ------------------------------------------------------------------------------------\n",
      "     Multipole            Electronic (a.u.)      Nuclear  (a.u.)        Total (a.u.)\n",
      " ------------------------------------------------------------------------------------\n",
      "\n",
      " L = 1.  Multiply by 2.5417464519 to convert [e a0] to [Debye]\n",
      " Dipole X            :         -0.0000000            0.0000000           -0.0000000\n",
      " Dipole Y            :         -0.0000000            0.0000000           -0.0000000\n",
      " Dipole Z            :         -0.1946557            1.0190771            0.8244214\n",
      " Magnitude           :                                                    0.8244214\n",
      "\n",
      " ------------------------------------------------------------------------------------\n",
      "\n",
      "*** tstop() called on CHEM9QDFT72ALT at Tue Jun 17 17:11:35 2025\n",
      "Module time:\n",
      "\tuser time   =       0.07 seconds =       0.00 minutes\n",
      "\tsystem time =       0.01 seconds =       0.00 minutes\n",
      "\ttotal time  =          0 seconds =       0.00 minutes\n",
      "Total time:\n",
      "\tuser time   =       0.82 seconds =       0.01 minutes\n",
      "\tsystem time =       0.08 seconds =       0.00 minutes\n",
      "\ttotal time  =         85 seconds =       1.42 minutes\n"
     ]
    }
   ],
   "source": [
    "calc = CQEDRHFCalculator(lambda_vector, molecule_string, psi4_options)\n",
    "calc.calc_cqed_rhf_energy()"
   ]
  },
  {
   "cell_type": "code",
   "execution_count": 12,
   "id": "eb263593-04a2-45b6-84b2-6d8c55cc979e",
   "metadata": {},
   "outputs": [
    {
     "name": "stdout",
     "output_type": "stream",
     "text": [
      "RHF Energy:           -76.02141845 Ha\n",
      "CQED-RHF Energy:      -75.98720569 Ha\n",
      "Dipole Energy:        0.00025199 Ha\n",
      "Nuclear Repulsion:    8.80146556 Ha\n",
      "Dipole Moment:        [-1.37781592e-16  2.88657986e-15  8.46933549e-01]\n"
     ]
    }
   ],
   "source": [
    "expected_h2o_e = -76.016355284146\n",
    "#assert np.isclose(expected_h2o_e, calc.cqed_rhf_energy, 1e-9, 1e-9)\n",
    "calc.summary()"
   ]
  },
  {
   "cell_type": "code",
   "execution_count": 5,
   "id": "4a87d1f0-ffa8-419a-9b3b-9d79470c9709",
   "metadata": {},
   "outputs": [],
   "source": [
    "calc.compute_nuclear_repulsion_gradient()\n",
    "calc.compute_one_electron_integral_gradient_terms()\n",
    "calc.compute_two_electron_integral_gradient_terms()\n",
    "calc.compute_fock_matrix_term()"
   ]
  },
  {
   "cell_type": "code",
   "execution_count": 6,
   "id": "7198838e",
   "metadata": {},
   "outputs": [
    {
     "name": "stdout",
     "output_type": "stream",
     "text": [
      "\n",
      "*** tstart() called on CHEM9QDFT72ALT\n",
      "*** at Tue Jun 17 17:10:19 2025\n",
      "\n",
      "\n",
      "         ------------------------------------------------------------\n",
      "                                   SCF GRAD                          \n",
      "                          Rob Parrish, Justin Turney,                \n",
      "                       Andy Simmonett, and Alex Sokolov              \n",
      "         ------------------------------------------------------------\n",
      "\n",
      "  ==> Geometry <==\n",
      "\n",
      "    Molecular point group: c1\n",
      "    Full point group: C2v\n",
      "\n",
      "    Geometry (in Angstrom), charge = 0, multiplicity = 1:\n",
      "\n",
      "       Center              X                  Y                   Z               Mass       \n",
      "    ------------   -----------------  -----------------  -----------------  -----------------\n",
      "         O            0.000000000000     0.000000000000    -0.068516219320    15.994914619570\n",
      "         H            0.000000000000    -0.790689573744     0.543701060715     1.007825032230\n",
      "         H            0.000000000000     0.790689573744     0.543701060715     1.007825032230\n",
      "\n",
      "  Nuclea"
     ]
    },
    {
     "data": {
      "text/plain": [
       "array([[-3.69561367e-17,  9.32519913e-16, -6.01300796e-02],\n",
       "       [-1.48146760e-17, -4.33923429e-02,  3.00650398e-02],\n",
       "       [ 5.17708127e-17,  4.33923429e-02,  3.00650398e-02]])"
      ]
     },
     "execution_count": 6,
     "metadata": {},
     "output_type": "execute_result"
    },
    {
     "name": "stdout",
     "output_type": "stream",
     "text": [
      "r repulsion =    8.801465564563406\n",
      "\n",
      "  ==> Basis Set <==\n",
      "\n",
      "  Basis Set: CC-PVDZ\n",
      "    Blend: CC-PVDZ\n",
      "    Number of shells: 12\n",
      "    Number of basis functions: 24\n",
      "    Number of Cartesian functions: 25\n",
      "    Spherical Harmonics?: true\n",
      "    Max angular momentum: 2\n",
      "\n",
      "  ==> DirectJKGrad: Integral-Direct SCF Gradients <==\n",
      "\n",
      "    Gradient:                    1\n",
      "    J tasked:                  Yes\n",
      "    K tasked:                  Yes\n",
      "    wK tasked:                  No\n",
      "    Integrals threads:           1\n",
      "    Schwarz Cutoff:          1E-12\n",
      "\n",
      "\n",
      "  -Total Gradient:\n",
      "     Atom            X                  Y                   Z\n",
      "    ------   -----------------  -----------------  -----------------\n",
      "       1       -0.000000000000     0.000000000000    -0.060130079561\n",
      "       2       -0.000000000000    -0.043392342878     0.030065039780\n",
      "       3        0.000000000000     0.043392342878     0.030065039780\n",
      "\n",
      "\n",
      "*** tstop() called on CHEM9QDFT72ALT at Tue Jun 17 17:10:19 2025\n",
      "Module time:\n",
      "\tuser time   =       0.04 seconds =       0.00 minutes\n",
      "\tsystem time =       0.00 seconds =       0.00 minutes\n",
      "\ttotal time  =          0 seconds =       0.00 minutes\n",
      "Total time:\n",
      "\tuser time   =       0.71 seconds =       0.01 minutes\n",
      "\tsystem time =       0.06 seconds =       0.00 minutes\n",
      "\ttotal time  =          9 seconds =       0.15 minutes\n"
     ]
    }
   ],
   "source": [
    "calc.calc_scf_gradient(qed_wfn=True)"
   ]
  },
  {
   "cell_type": "code",
   "execution_count": 7,
   "id": "9e7ef310",
   "metadata": {},
   "outputs": [
    {
     "name": "stdout",
     "output_type": "stream",
     "text": [
      "[[-3.69561367e-17  9.32519913e-16 -6.01300796e-02]\n",
      " [-1.48146760e-17 -4.33923429e-02  3.00650398e-02]\n",
      " [ 5.17708127e-17  4.33923429e-02  3.00650398e-02]]\n",
      "Shape of nuclear repulsion gradient\n",
      "(3, 3)\n",
      "Shape of Overlap Gradient\n",
      "(9,)\n",
      "Shape of T gradient\n",
      "(9,)\n",
      "Shape of V gradient\n",
      "(9,)\n",
      "Shape of J gradient\n",
      "(9,)\n",
      "Shape of K gradient\n",
      "(9,)\n",
      "My gradient\n",
      "[[-3.69561367e-17 -1.40084745e-16 -6.01300796e-02]\n",
      " [-1.48146760e-17 -4.33923429e-02  3.00650398e-02]\n",
      " [ 5.17708127e-17  4.33923429e-02  3.00650398e-02]]\n"
     ]
    }
   ],
   "source": [
    "print(calc.scf_grad)\n",
    "print(\"Shape of nuclear repulsion gradient\")\n",
    "print(np.shape(calc.nuclear_repulsion_gradient))\n",
    "print(\"Shape of Overlap Gradient\")\n",
    "print(np.shape(calc.overlap_gradient))\n",
    "print(\"Shape of T gradient\")\n",
    "print(np.shape(calc.kinetic_gradient))\n",
    "print(\"Shape of V gradient\")\n",
    "print(np.shape(calc.potential_gradient))\n",
    "print(\"Shape of J gradient\")\n",
    "print(np.shape(calc.J_gradient))\n",
    "print(\"Shape of K gradient\")\n",
    "print(np.shape(calc.K_gradient))\n",
    "el_grads = calc.overlap_gradient + calc.kinetic_gradient + calc.potential_gradient + calc.J_gradient + calc.K_gradient \n",
    "my_grad = calc.nuclear_repulsion_gradient + el_grads.reshape(3,3)\n",
    "print(\"My gradient\")\n",
    "print(my_grad)\n"
   ]
  },
  {
   "cell_type": "code",
   "execution_count": null,
   "id": "98523a32",
   "metadata": {},
   "outputs": [],
   "source": [
    "#print(calc.scf_grad -gradient)"
   ]
  },
  {
   "cell_type": "code",
   "execution_count": null,
   "id": "97df1db9",
   "metadata": {},
   "outputs": [],
   "source": [
    "calc.calc_quadrupole_gradient()\n",
    "# last output\n",
    "\n",
    "#[[ 1.32601432e-18  9.99294165e-19 -2.77573793e-03]\n",
    "# [ 1.03219418e-19  2.17498212e-04  1.62681438e-03]\n",
    "# [-1.42923374e-18 -2.17498212e-04  1.62681438e-03]]"
   ]
  },
  {
   "cell_type": "code",
   "execution_count": null,
   "id": "113b6f7d-859a-48ec-b4f8-78c5b3c458f2",
   "metadata": {},
   "outputs": [],
   "source": [
    "calc.calc_numerical_gradient()"
   ]
  },
  {
   "cell_type": "code",
   "execution_count": null,
   "id": "68c08bea-7d26-4175-9581-c58dd382b4a4",
   "metadata": {},
   "outputs": [],
   "source": [
    "calc.numerical_scf_gradient.reshape(3,3)-calc.scf_grad"
   ]
  },
  {
   "cell_type": "code",
   "execution_count": null,
   "id": "46bb11bf-e537-46b0-be9f-913ed09f40a8",
   "metadata": {},
   "outputs": [],
   "source": [
    "print(\"O_DSE Analytic GRAD\")\n",
    "print(calc.numerical_o_dse_gradient.reshape(3,3))\n",
    "\n",
    "\n",
    "print(\"O_DSE Numeric GRAD\")\n",
    "print(calc.o_dse_gradient.reshape(3,3))"
   ]
  },
  {
   "cell_type": "code",
   "execution_count": null,
   "id": "8f0e7a2c-0b85-4789-a665-781375b65d12",
   "metadata": {},
   "outputs": [],
   "source": [
    "calc.calc_dipole_dipole_gradient()"
   ]
  },
  {
   "cell_type": "code",
   "execution_count": null,
   "id": "34a3dea5-008f-4246-8c0d-7856c5f4f34a",
   "metadata": {},
   "outputs": [],
   "source": [
    "print(\"K_DSE GRAD\")\n",
    "print(calc.numerical_K_dse_gradient.reshape(3,3))\n",
    "\n",
    "print(\"ANALYTIC K_DSE GRAD\")\n",
    "print(calc.K_dse_gradient.reshape(3,3))\n",
    "\n",
    "\n"
   ]
  },
  {
   "cell_type": "code",
   "execution_count": null,
   "id": "65773e48",
   "metadata": {},
   "outputs": [],
   "source": [
    "\n",
    "print(\"E GRAD\")\n",
    "print(calc.numerical_energy_gradient.reshape(3,3))\n",
    "\n",
    "sum_grad = calc.scf_grad + calc.numerical_o_dse_gradient.reshape(3,3) + calc.numerical_K_dse_gradient.reshape(3,3)\n",
    "\n",
    "print(\"SUM GRAD\")\n",
    "print(sum_grad)"
   ]
  },
  {
   "cell_type": "code",
   "execution_count": null,
   "id": "3645006e-904e-451a-8869-8acd73502622",
   "metadata": {},
   "outputs": [],
   "source": []
  },
  {
   "cell_type": "code",
   "execution_count": null,
   "id": "4758a39f-cd76-4388-a1cd-ba141110fd31",
   "metadata": {},
   "outputs": [],
   "source": [
    "total_gradient = calc.scf_grad + calc.K_dse_gradient.reshape(3,3) + calc.o_dse_gradient.reshape(3,3)\n",
    "print(total_gradient)"
   ]
  },
  {
   "cell_type": "markdown",
   "id": "8a88e73e-14ba-456c-a673-bdfb2e3d1e1d",
   "metadata": {},
   "source": [
    "# The numerical gradient for water in a cc-pVDZ basis set with this geometry and lambda = 0, 0, 0.05 is:\n",
    "\n",
    "[[ 2.25601351e-10 -2.63201576e-10 -6.18353559e-02]\n",
    "\n",
    " [ 7.52004504e-11 -4.35898538e-02  3.09176777e-02]\n",
    " \n",
    " [ 0.00000000e+00  4.35898541e-02  3.09176786e-02]]"
   ]
  },
  {
   "cell_type": "code",
   "execution_count": null,
   "id": "10a9737a-c30f-4ed5-967c-da799741d0cb",
   "metadata": {},
   "outputs": [],
   "source": [
    "_expected_gradient = np.array(\n",
    "[[ 2.25601351e-10, -2.63201576e-10, -6.18353559e-02],\n",
    " [ 7.52004504e-11, -4.35898538e-02,  3.09176777e-02],\n",
    " [ 0.00000000e+00,  4.35898541e-02,  3.09176786e-02]])\n",
    "\n",
    "print(_expected_gradient-calc.numerical_energy_gradient.reshape(3,3))"
   ]
  },
  {
   "cell_type": "code",
   "execution_count": null,
   "id": "c3bc962a-c40e-4afa-bac6-015337fe5edf",
   "metadata": {},
   "outputs": [],
   "source": []
  }
 ],
 "metadata": {
  "kernelspec": {
   "display_name": "Python 3 (ipykernel)",
   "language": "python",
   "name": "python3"
  },
  "language_info": {
   "codemirror_mode": {
    "name": "ipython",
    "version": 3
   },
   "file_extension": ".py",
   "mimetype": "text/x-python",
   "name": "python",
   "nbconvert_exporter": "python",
   "pygments_lexer": "ipython3",
   "version": "3.11.12"
  }
 },
 "nbformat": 4,
 "nbformat_minor": 5
}
