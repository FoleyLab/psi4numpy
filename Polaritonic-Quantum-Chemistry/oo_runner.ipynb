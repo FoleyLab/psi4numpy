{
 "cells": [
  {
   "cell_type": "code",
   "execution_count": null,
   "id": "c395e81e-d3bc-4155-9dcf-4c6f7357406a",
   "metadata": {},
   "outputs": [],
   "source": [
    "from oo_cqed_rhf import CQEDRHFCalculator\n",
    "import numpy as np\n",
    "import psi4"
   ]
  },
  {
   "cell_type": "code",
   "execution_count": null,
   "id": "b7d2f971-cad8-43d9-9da4-36c51ee29ffa",
   "metadata": {},
   "outputs": [],
   "source": [
    "lambda_vector = [0.0, 0.0, 0.0]\n",
    "# molecule string for H2O\n",
    "molecule_string = \"\"\"\n",
    "0 1\n",
    "    O      0.000000000000   0.000000000000  -0.068516219320\n",
    "    H      0.000000000000  -0.790689573744   0.543701060715\n",
    "    H      0.000000000000   0.790689573744   0.543701060715\n",
    "no_reorient\n",
    "no_com\n",
    "symmetry c1\n",
    "\"\"\"\n",
    "\n",
    "# options for H2O\n",
    "psi4_options = {\n",
    "    \"basis\": \"cc-pVDZ\",\n",
    "    \"save_jk\": True,\n",
    "    \"scf_type\": \"pk\",\n",
    "    \"e_convergence\": 1e-12,\n",
    "    \"d_convergence\": 1e-12,\n",
    "}\n"
   ]
  },
  {
   "cell_type": "code",
   "execution_count": null,
   "id": "8d32e3fd-a256-43d8-b997-6b09b97790a5",
   "metadata": {},
   "outputs": [],
   "source": [
    "calc = CQEDRHFCalculator(lambda_vector, molecule_string, psi4_options)\n",
    "calc.calc_cqed_rhf_energy()"
   ]
  },
  {
   "cell_type": "code",
   "execution_count": null,
   "id": "eb263593-04a2-45b6-84b2-6d8c55cc979e",
   "metadata": {},
   "outputs": [],
   "source": [
    "expected_h2o_e = -76.016355284146\n",
    "assert np.isclose(expected_h2o_e, calc.cqed_rhf_energy, 1e-9, 1e-9)"
   ]
  },
  {
   "cell_type": "code",
   "execution_count": null,
   "id": "4a87d1f0-ffa8-419a-9b3b-9d79470c9709",
   "metadata": {},
   "outputs": [],
   "source": [
    "calc.compute_nuclear_repulsion_gradient()\n",
    "calc.compute_one_electron_integral_gradient_terms()\n",
    "calc.compute_two_electron_integral_gradient_terms()\n",
    "calc.compute_fock_matrix_term()"
   ]
  },
  {
   "cell_type": "code",
   "execution_count": null,
   "id": "7198838e",
   "metadata": {},
   "outputs": [],
   "source": [
    "calc.calc_scf_gradient(qed_wfn=True)"
   ]
  },
  {
   "cell_type": "code",
   "execution_count": null,
   "id": "9e7ef310",
   "metadata": {},
   "outputs": [],
   "source": [
    "print(calc.scf_grad)\n",
    "print(\"Shape of nuclear repulsion gradient\")\n",
    "print(np.shape(calc.nuclear_repulsion_gradient))\n",
    "print(\"Shape of Overlap Gradient\")\n",
    "print(np.shape(calc.overlap_gradient))\n",
    "print(\"Shape of T gradient\")\n",
    "print(np.shape(calc.kinetic_gradient))\n",
    "print(\"Shape of V gradient\")\n",
    "print(np.shape(calc.potential_gradient))\n",
    "print(\"Shape of J gradient\")\n",
    "print(np.shape(calc.J_gradient))\n",
    "print(\"Shape of K gradient\")\n",
    "print(np.shape(calc.K_gradient))\n",
    "el_grads = calc.overlap_gradient + calc.kinetic_gradient + calc.potential_gradient + calc.J_gradient + calc.K_gradient \n",
    "my_grad = calc.nuclear_repulsion_gradient + el_grads.reshape(3,3)\n",
    "print(\"My gradient\")\n",
    "print(my_grad)\n"
   ]
  },
  {
   "cell_type": "code",
   "execution_count": null,
   "id": "98523a32",
   "metadata": {},
   "outputs": [],
   "source": [
    "#print(calc.scf_grad -gradient)"
   ]
  },
  {
   "cell_type": "code",
   "execution_count": null,
   "id": "97df1db9",
   "metadata": {},
   "outputs": [],
   "source": [
    "calc.calc_quadrupole_gradient()\n",
    "# last output\n",
    "\n",
    "#[[ 1.32601432e-18  9.99294165e-19 -2.77573793e-03]\n",
    "# [ 1.03219418e-19  2.17498212e-04  1.62681438e-03]\n",
    "# [-1.42923374e-18 -2.17498212e-04  1.62681438e-03]]"
   ]
  },
  {
   "cell_type": "code",
   "execution_count": null,
   "id": "113b6f7d-859a-48ec-b4f8-78c5b3c458f2",
   "metadata": {},
   "outputs": [],
   "source": [
    "calc.calc_numerical_gradient()"
   ]
  },
  {
   "cell_type": "code",
   "execution_count": null,
   "id": "68c08bea-7d26-4175-9581-c58dd382b4a4",
   "metadata": {},
   "outputs": [],
   "source": [
    "calc.numerical_scf_gradient.reshape(3,3)-calc.scf_grad"
   ]
  },
  {
   "cell_type": "code",
   "execution_count": null,
   "id": "46bb11bf-e537-46b0-be9f-913ed09f40a8",
   "metadata": {},
   "outputs": [],
   "source": [
    "print(\"O_DSE Analytic GRAD\")\n",
    "print(calc.numerical_o_dse_gradient.reshape(3,3))\n",
    "\n",
    "\n",
    "print(\"O_DSE Numeric GRAD\")\n",
    "print(calc.o_dse_gradient.reshape(3,3))"
   ]
  },
  {
   "cell_type": "code",
   "execution_count": null,
   "id": "8f0e7a2c-0b85-4789-a665-781375b65d12",
   "metadata": {},
   "outputs": [],
   "source": [
    "calc.calc_dipole_dipole_gradient()"
   ]
  },
  {
   "cell_type": "code",
   "execution_count": null,
   "id": "34a3dea5-008f-4246-8c0d-7856c5f4f34a",
   "metadata": {},
   "outputs": [],
   "source": [
    "print(\"K_DSE GRAD\")\n",
    "print(calc.numerical_K_dse_gradient.reshape(3,3))\n",
    "\n",
    "print(\"ANALYTIC K_DSE GRAD\")\n",
    "print(calc.K_dse_gradient.reshape(3,3))\n",
    "\n",
    "\n"
   ]
  },
  {
   "cell_type": "code",
   "execution_count": null,
   "id": "65773e48",
   "metadata": {},
   "outputs": [],
   "source": [
    "\n",
    "print(\"E GRAD\")\n",
    "print(calc.numerical_energy_gradient.reshape(3,3))\n",
    "\n",
    "sum_grad = calc.scf_grad + calc.numerical_o_dse_gradient.reshape(3,3) + calc.numerical_K_dse_gradient.reshape(3,3)\n",
    "\n",
    "print(\"SUM GRAD\")\n",
    "print(sum_grad)"
   ]
  },
  {
   "cell_type": "code",
   "execution_count": null,
   "id": "3645006e-904e-451a-8869-8acd73502622",
   "metadata": {},
   "outputs": [],
   "source": []
  },
  {
   "cell_type": "code",
   "execution_count": null,
   "id": "4758a39f-cd76-4388-a1cd-ba141110fd31",
   "metadata": {},
   "outputs": [],
   "source": [
    "total_gradient = calc.scf_grad + calc.K_dse_gradient.reshape(3,3) + calc.o_dse_gradient.reshape(3,3)\n",
    "print(total_gradient)"
   ]
  },
  {
   "cell_type": "markdown",
   "id": "8a88e73e-14ba-456c-a673-bdfb2e3d1e1d",
   "metadata": {},
   "source": [
    "# The numerical gradient for water in a cc-pVDZ basis set with this geometry and lambda = 0, 0, 0.05 is:\n",
    "\n",
    "[[ 2.25601351e-10 -2.63201576e-10 -6.18353559e-02]\n",
    "\n",
    " [ 7.52004504e-11 -4.35898538e-02  3.09176777e-02]\n",
    " \n",
    " [ 0.00000000e+00  4.35898541e-02  3.09176786e-02]]"
   ]
  },
  {
   "cell_type": "code",
   "execution_count": null,
   "id": "10a9737a-c30f-4ed5-967c-da799741d0cb",
   "metadata": {},
   "outputs": [],
   "source": [
    "_expected_gradient = np.array(\n",
    "[[ 2.25601351e-10, -2.63201576e-10, -6.18353559e-02],\n",
    " [ 7.52004504e-11, -4.35898538e-02,  3.09176777e-02],\n",
    " [ 0.00000000e+00,  4.35898541e-02,  3.09176786e-02]])\n",
    "\n",
    "print(_expected_gradient-calc.numerical_energy_gradient.reshape(3,3))"
   ]
  },
  {
   "cell_type": "code",
   "execution_count": null,
   "id": "c3bc962a-c40e-4afa-bac6-015337fe5edf",
   "metadata": {},
   "outputs": [],
   "source": []
  }
 ],
 "metadata": {
  "kernelspec": {
   "display_name": "Python 3 (ipykernel)",
   "language": "python",
   "name": "python3"
  },
  "language_info": {
   "codemirror_mode": {
    "name": "ipython",
    "version": 3
   },
   "file_extension": ".py",
   "mimetype": "text/x-python",
   "name": "python",
   "nbconvert_exporter": "python",
   "pygments_lexer": "ipython3",
   "version": "3.11.12"
  }
 },
 "nbformat": 4,
 "nbformat_minor": 5
}
