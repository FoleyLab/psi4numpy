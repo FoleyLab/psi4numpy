{
 "cells": [
  {
   "cell_type": "code",
   "execution_count": null,
   "id": "c395e81e-d3bc-4155-9dcf-4c6f7357406a",
   "metadata": {},
   "outputs": [],
   "source": [
    "from oo_cqed_rhf import CQEDRHFCalculator\n",
    "import numpy as np\n",
    "import psi4"
   ]
  },
  {
   "cell_type": "code",
   "execution_count": null,
   "id": "b7d2f971-cad8-43d9-9da4-36c51ee29ffa",
   "metadata": {},
   "outputs": [],
   "source": [
    "lambda_vector = [0.0, 0.0, 0.05]\n",
    "# molecule string for H2O\n",
    "molecule_string = \"\"\"\n",
    "\n",
    "0 1\n",
    "    O      0.000000000000   0.000000000000  -0.068516219320\n",
    "    H      0.000000000000  -0.790689573744   0.543701060715\n",
    "    H      0.000000000000   0.790689573744   0.543701060715\n",
    "no_reorient\n",
    "symmetry c1\n",
    "\"\"\"\n",
    "\n",
    "# options for H2O\n",
    "psi4_options = {\n",
    "    \"basis\": \"cc-pVDZ\",\n",
    "    \"save_jk\": True,\n",
    "    \"scf_type\": \"pk\",\n",
    "    \"e_convergence\": 1e-12,\n",
    "    \"d_convergence\": 1e-12,\n",
    "}\n"
   ]
  },
  {
   "cell_type": "code",
   "execution_count": null,
   "id": "8d32e3fd-a256-43d8-b997-6b09b97790a5",
   "metadata": {},
   "outputs": [],
   "source": [
    "calc = CQEDRHFCalculator(lambda_vector, molecule_string, psi4_options)\n",
    "calc.calc_cqed_rhf_energy()\n",
    "calc.summary()"
   ]
  },
  {
   "cell_type": "code",
   "execution_count": null,
   "id": "c61997ce-fa1d-4768-b901-d6a188fed811",
   "metadata": {},
   "outputs": [],
   "source": [
    "calc.summary()"
   ]
  },
  {
   "cell_type": "code",
   "execution_count": null,
   "id": "eb263593-04a2-45b6-84b2-6d8c55cc979e",
   "metadata": {},
   "outputs": [],
   "source": [
    "expected_h2o_e = -76.016355284146\n",
    "assert np.isclose(expected_h2o_e, calc.cqed_rhf_energy)"
   ]
  },
  {
   "cell_type": "code",
   "execution_count": null,
   "id": "7198838e",
   "metadata": {},
   "outputs": [],
   "source": [
    "calc.calc_scf_gradient(qed_wfn=True)"
   ]
  },
  {
   "cell_type": "code",
   "execution_count": null,
   "id": "9e7ef310",
   "metadata": {},
   "outputs": [],
   "source": [
    "mol = psi4.geometry(calc.molecule_string)\n",
    "psi4.set_options(calc.psi4_options)\n",
    "gradient = np.asarray(psi4.gradient(\"scf\"))\n"
   ]
  },
  {
   "cell_type": "code",
   "execution_count": null,
   "id": "98523a32",
   "metadata": {},
   "outputs": [],
   "source": [
    "print(calc.scf_grad -gradient)"
   ]
  },
  {
   "cell_type": "code",
   "execution_count": null,
   "id": "97df1db9",
   "metadata": {},
   "outputs": [],
   "source": [
    "calc.calc_quadrupole_gradient()"
   ]
  },
  {
   "cell_type": "code",
   "execution_count": null,
   "id": "65773e48",
   "metadata": {},
   "outputs": [],
   "source": []
  }
 ],
 "metadata": {
  "kernelspec": {
   "display_name": "Python 3 (ipykernel)",
   "language": "python",
   "name": "python3"
  },
  "language_info": {
   "codemirror_mode": {
    "name": "ipython",
    "version": 3
   },
   "file_extension": ".py",
   "mimetype": "text/x-python",
   "name": "python",
   "nbconvert_exporter": "python",
   "pygments_lexer": "ipython3",
   "version": "3.9.7"
  }
 },
 "nbformat": 4,
 "nbformat_minor": 5
}
