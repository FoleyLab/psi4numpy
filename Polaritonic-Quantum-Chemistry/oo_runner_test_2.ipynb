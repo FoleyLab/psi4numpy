{
 "cells": [
  {
   "cell_type": "markdown",
   "id": "5d49ac6a-55d2-4dcd-979c-f4326de5c388",
   "metadata": {},
   "source": [
    "## This tests the standard RHF gradient components for cc-pVDZ water against psi4 scfgrad with cavity effects\n",
    "\n",
    "We will turn the cavity on along z and we will update psi4's wavefunction object to use the density from the cqed-rhf calculation!"
   ]
  },
  {
   "cell_type": "code",
   "execution_count": null,
   "id": "c395e81e-d3bc-4155-9dcf-4c6f7357406a",
   "metadata": {},
   "outputs": [],
   "source": [
    "from oo_cqed_rhf import CQEDRHFCalculator\n",
    "import numpy as np\n",
    "import psi4"
   ]
  },
  {
   "cell_type": "code",
   "execution_count": null,
   "id": "e9f4adaf-5ca4-4fef-848d-ef5b31de14e4",
   "metadata": {},
   "outputs": [],
   "source": [
    "molecule h2 {\n",
    "         O            0.000000000000     0.000000000000    -0.068516219320\n",
    "         H            0.000000000000    -0.790689573744     0.543701060715\n",
    "         H            0.000000000000     0.790689573744     0.543701060715\n",
    "no_reorient\n",
    "nocom\n",
    "symmetry c1\n",
    "}\n",
    "set {\n",
    "  basis sto-3g\n",
    "  scf_type pk\n",
    "  e_convergence 1e-12\n",
    "  d_convergence 1e-12\n",
    "}\n",
    "# frequency: 2.0 eV\n",
    "w = 0.07349864501573\n",
    "# lambda: 0.05\n",
    "# coupling g = 0.05 / sqrt(2*w)\n",
    "g = 0.05 / np.sqrt(2.0 * w)\n",
    "set {\n",
    "  maxiter 500\n",
    "  cavity_frequency         [0.0, 0.0, $w]\n",
    "  cavity_coupling_strength [0.0, 0.0, $g]\n",
    "}"
   ]
  },
  {
   "cell_type": "code",
   "execution_count": null,
   "id": "b7d2f971-cad8-43d9-9da4-36c51ee29ffa",
   "metadata": {},
   "outputs": [],
   "source": [
    "# Expected gradient contributions for Water in a STO-3G basis set with the following geometry:\n",
    "h2o_string = \"\"\"\n",
    "         O            0.000000000000     0.000000000000    -0.068516219320\n",
    "         H            0.000000000000    -0.790689573744     0.543701060715\n",
    "         H            0.000000000000     0.790689573744     0.543701060715\n",
    "no_reorient\n",
    "nocom\n",
    "symmetry c1\n",
    "\"\"\"\n",
    "\n",
    "w = 0.07349864501573\n",
    "# lambda: 0.05\n",
    "# coupling g = 0.05 / sqrt(2*w)\n",
    "g = 0.05 / np.sqrt(2.0 * w)\n",
    "\n",
    "# no cavity\n",
    "lambda_vector = np.array([0, 0, g])\n",
    "print(lambda_vector)\n",
    "# options for H2O\n",
    "psi4_options = {\n",
    "    \"basis\": \"sto-3g\",\n",
    "    \"save_jk\": True,\n",
    "    \"scf_type\": \"pk\",\n",
    "    \"e_convergence\": 1e-12,\n",
    "    \"d_convergence\": 1e-12,\n",
    "}\n",
    "\n",
    "\n",
    "\n"
   ]
  },
  {
   "cell_type": "code",
   "execution_count": null,
   "id": "8d32e3fd-a256-43d8-b997-6b09b97790a5",
   "metadata": {},
   "outputs": [],
   "source": [
    "calc = CQEDRHFCalculator(lambda_vector, h2o_string, psi4_options)\n",
    "calc.calc_cqed_rhf_energy()"
   ]
  },
  {
   "cell_type": "code",
   "execution_count": null,
   "id": "eb263593-04a2-45b6-84b2-6d8c55cc979e",
   "metadata": {},
   "outputs": [],
   "source": [
    "calc.compute_canonical_gradients()"
   ]
  },
  {
   "cell_type": "code",
   "execution_count": null,
   "id": "426b8789-05d3-49d7-8aae-b0cd848a5b9b",
   "metadata": {},
   "outputs": [],
   "source": [
    "# print the total gradient\n",
    "print(calc.canonical_gradient)"
   ]
  },
  {
   "cell_type": "code",
   "execution_count": null,
   "id": "10fd33b4-2538-4da7-b775-7afcaa532a06",
   "metadata": {},
   "outputs": [],
   "source": [
    "# use psi4 to compute the gradient\n",
    "calc.calc_scf_gradient(qed_wfn=True)"
   ]
  },
  {
   "cell_type": "code",
   "execution_count": null,
   "id": "4a22dce1-7090-4619-bd71-2ae24bb69ee7",
   "metadata": {},
   "outputs": [],
   "source": [
    "print(calc.scf_grad)"
   ]
  },
  {
   "cell_type": "code",
   "execution_count": null,
   "id": "e60a4f4a-9453-4b14-b6c2-2d216aafb6d7",
   "metadata": {},
   "outputs": [],
   "source": [
    "print(F\" My Gradient Matches Psi4's Gradient: {np.allclose(calc.scf_grad, calc.canonical_gradient, 1e-6, 1e-6)}\")\n",
    "error_norm = np.linalg.norm(calc.scf_grad-  calc.canonical_gradient)\n",
    "print(F\" Norm of difference is {error_norm}\")"
   ]
  },
  {
   "cell_type": "code",
   "execution_count": null,
   "id": "bb40ca30-564d-49ec-be95-124e8be3dff4",
   "metadata": {},
   "outputs": [],
   "source": []
  }
 ],
 "metadata": {
  "kernelspec": {
   "display_name": "Python 3 (ipykernel)",
   "language": "python",
   "name": "python3"
  },
  "language_info": {
   "codemirror_mode": {
    "name": "ipython",
    "version": 3
   },
   "file_extension": ".py",
   "mimetype": "text/x-python",
   "name": "python",
   "nbconvert_exporter": "python",
   "pygments_lexer": "ipython3",
   "version": "3.11.12"
  }
 },
 "nbformat": 4,
 "nbformat_minor": 5
}
