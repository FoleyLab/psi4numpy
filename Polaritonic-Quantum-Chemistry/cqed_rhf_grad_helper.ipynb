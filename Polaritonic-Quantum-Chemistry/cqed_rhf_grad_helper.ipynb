{
 "cells": [
  {
   "cell_type": "code",
   "execution_count": null,
   "id": "51334cc6-4b82-4b09-ad3f-d05b7ad4d1b9",
   "metadata": {},
   "outputs": [],
   "source": [
    "import psi4\n",
    "import numpy as np\n",
    "from helper_CQED_RHF import *"
   ]
  },
  {
   "cell_type": "code",
   "execution_count": null,
   "id": "18a637c6-59f0-4d50-989f-be9a395aed7d",
   "metadata": {},
   "outputs": [],
   "source": [
    "\n",
    "# options for H2O\n",
    "psi4_options_dict = {\n",
    "    \"basis\": \"cc-pVDZ\",\n",
    "    \"save_jk\": True,\n",
    "    \"scf_type\": \"pk\",\n",
    "    \"e_convergence\": 1e-12,\n",
    "    \"d_convergence\": 1e-12,\n",
    "}\n",
    "\n",
    "psi4.set_options(psi4_options_dict)\n",
    "# molecule string for H2O\n",
    "molecule_string = \"\"\"\n",
    "\n",
    "0 1\n",
    "    O      0.000000000000   0.000000000000  -0.068516219320\n",
    "    H      0.000000000000  -0.790689573744   0.543701060715\n",
    "    H      0.000000000000   0.790689573744   0.543701060715\n",
    "no_reorient\n",
    "symmetry c1\n",
    "\"\"\"\n",
    "\n",
    "# electric field for H2O - polarized along z-axis with mangitude 0.05 atomic units\n",
    "lambda_vector = np.array([0.0, 0.0, 0.05])\n",
    "\n",
    "# molecule string for H2O\n",
    "mol_str_fx = \"\"\"\n",
    "\n",
    "0 1\n",
    "    O      0.001   0.000000000000  -0.068516219320\n",
    "    H      0.000000000000  -0.790689573744   0.543701060715\n",
    "    H      0.000000000000   0.790689573744   0.543701060715\n",
    "no_reorient\n",
    "no_com\n",
    "symmetry c1\n",
    "\"\"\"\n",
    "\n",
    "\n",
    "# molecule string for H2O\n",
    "mol_str_bx = \"\"\"\n",
    "\n",
    "0 1\n",
    "    O      -0.001   0.000000000000  -0.068516219320\n",
    "    H      0.000000000000  -0.790689573744   0.543701060715\n",
    "    H      0.000000000000   0.790689573744   0.543701060715\n",
    "no_reorient\n",
    "no_com\n",
    "symmetry c1\n",
    "\"\"\"\n",
    "\n",
    "test_string = \"\"\"\n",
    "    O      0.000000000000   0.000000000000  -0.068516219320\n",
    "    H      0.000000000000  -0.790689573744   0.543701060715\n",
    "    H      0.000000000000   0.790689573744   0.543701060715\n",
    "symmetry c1\n",
    "\"\"\"\n",
    "\n",
    "molecule_string = \"\"\"\n",
    "O 0.0 0.0 0.0\n",
    "H 0.0 0.757 0.587\n",
    "H 0.0 -0.757 0.587\n",
    "no_reorient\n",
    "no_com\n",
    "symmetry c1\n",
    "\"\"\"\n",
    "\n",
    "test_mol = psi4.geometry(molecule_string)\n",
    "et, wfn_t = psi4.energy(\"scf\", return_wfn=True)"
   ]
  },
  {
   "cell_type": "code",
   "execution_count": null,
   "id": "311c0dd6-5ff5-43ee-85ef-6677c717b280",
   "metadata": {},
   "outputs": [],
   "source": [
    "# run a psi4 rhf calculation and return the wavefunction object\n",
    "\n",
    "# sest up molecule object\n",
    "molecule = psi4.geometry(molecule_string)\n",
    "nuc_d = molecule.nuclear_dipole()\n",
    "\n",
    "# get the nuclear repulsion contribution to the gradient\n",
    "nuclear_repulsion_gradient = np.asarray(molecule.nuclear_repulsion_energy_deriv1())\n",
    "\n",
    "# Set up Psi4 options\n",
    "psi4.set_options(psi4_options_dict)\n",
    "\n",
    "# run energy calculation and return wavefunction\n",
    "rhf_e , wfn = psi4.energy('scf', return_wfn=True)\n",
    "\n",
    "# get the rhf gradient\n",
    "_expected_gradient = np.asarray(psi4.gradient('scf'))\n",
    "\n",
    "# compute the QED-RHF energy and density matrix\n",
    "cqed_dict = cqed_rhf(lambda_vector, molecule_string, psi4_options_dict)\n",
    "\n",
    "# parse dictionary for ordinary RHF and CQED-RHF energy\n",
    "_rhf_e = cqed_dict[\"RHF ENERGY\"]\n",
    "_cqed_rhf_e = cqed_dict[\"CQED-RHF ENERGY\"]\n",
    "\n",
    "# confirm the rhf energy from this method mmatches psi4\n",
    "assert np.isclose(_rhf_e, rhf_e)\n",
    "\n",
    "# parse dictionary for density matrix\n",
    "_cqed_rhf_D = cqed_dict[\"CQED-RHF DENSITY MATRIX\"]\n",
    "_cqed_rhf_C = cqed_dict[\"CQED-RHF C\"]\n",
    "_cqed_rhf_eps = cqed_dict[\"CQED-RHF EPS\"]\n",
    "_cqed_rhf_F = cqed_dict[\"CQED-RHF FOCK\"]\n",
    "\n",
    "\n",
    "\n"
   ]
  },
  {
   "cell_type": "code",
   "execution_count": null,
   "id": "a6e9bffd-8ac7-455e-92d5-6a724e7588b0",
   "metadata": {},
   "outputs": [],
   "source": [
    "wfn.Ca().nph[0][:,:] = psi4.core.Matrix.from_array(_cqed_rhf_C)\n",
    "wfn.Cb().nph[0][:,:] = psi4.core.Matrix.from_array(_cqed_rhf_C)\n",
    "wfn.Da().nph[0][:,:] = psi4.core.Matrix.from_array(_cqed_rhf_D)\n",
    "wfn.Db().nph[0][:,:] = psi4.core.Matrix.from_array(_cqed_rhf_D)\n",
    "wfn.epsilon_a().nph[0][:] = psi4.core.Vector.from_array(_cqed_rhf_eps)\n",
    "wfn.epsilon_b().nph[0][:] = psi4.core.Vector.from_array(_cqed_rhf_eps)"
   ]
  },
  {
   "cell_type": "code",
   "execution_count": null,
   "id": "e754cf50-2bb2-43dd-aa92-c5d1f73af74e",
   "metadata": {},
   "outputs": [],
   "source": [
    "# this is the total rhf gradient with the RHF density, etc, stored in wfn\n",
    "up_scf_gradient = psi4.core.scfgrad(wfn)"
   ]
  },
  {
   "cell_type": "code",
   "execution_count": null,
   "id": "55719c53-c7c8-40a5-bdfb-7827b086187b",
   "metadata": {},
   "outputs": [],
   "source": [
    "#### call scfgrad for electron-only part of gradient ####\n",
    "print(np.asarray(up_scf_gradient))\n",
    "#[[-1.47661150e-16  2.35977968e-15 -1.54615212e-02]\n",
    "# [ 2.32684749e-16  1.06983093e-02  7.73076058e-03]\n",
    "# [-8.50235988e-17 -1.06983093e-02  7.73076058e-03]]"
   ]
  },
  {
   "cell_type": "code",
   "execution_count": null,
   "id": "17ee7416-8290-4952-9541-0fbc8c04e1ee",
   "metadata": {},
   "outputs": [],
   "source": [
    "print(gradient)"
   ]
  },
  {
   "cell_type": "code",
   "execution_count": null,
   "id": "62ab2ea2-d2ef-4a11-a9c2-d958749662c9",
   "metadata": {},
   "outputs": [],
   "source": []
  }
 ],
 "metadata": {
  "kernelspec": {
   "display_name": "Python 3 (ipykernel)",
   "language": "python",
   "name": "python3"
  },
  "language_info": {
   "codemirror_mode": {
    "name": "ipython",
    "version": 3
   },
   "file_extension": ".py",
   "mimetype": "text/x-python",
   "name": "python",
   "nbconvert_exporter": "python",
   "pygments_lexer": "ipython3",
   "version": "3.9.7"
  }
 },
 "nbformat": 4,
 "nbformat_minor": 5
}
